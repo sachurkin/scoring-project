{
  "nbformat": 4,
  "nbformat_minor": 0,
  "metadata": {
    "colab": {
      "name": "lightgbm",
      "provenance": [],
      "collapsed_sections": []
    },
    "kernelspec": {
      "display_name": "Python 3",
      "language": "python",
      "name": "python3"
    },
    "language_info": {
      "codemirror_mode": {
        "name": "ipython",
        "version": 3
      },
      "file_extension": ".py",
      "mimetype": "text/x-python",
      "name": "python",
      "nbconvert_exporter": "python",
      "pygments_lexer": "ipython3",
      "version": "3.8.5"
    }
  },
  "cells": [
    {
      "cell_type": "code",
      "metadata": {
        "colab": {
          "base_uri": "https://localhost:8080/"
        },
        "id": "7id2yGEAwgOS",
        "outputId": "367c3727-b518-4bee-bd29-ccca03fe673c"
      },
      "source": [
        "from google.colab import drive\n",
        "drive.mount('/content/drive')\n",
        "path = '/content/drive/My Drive/Colab Notebooks/Notebooks'"
      ],
      "execution_count": 7,
      "outputs": [
        {
          "output_type": "stream",
          "text": [
            "Drive already mounted at /content/drive; to attempt to forcibly remount, call drive.mount(\"/content/drive\", force_remount=True).\n"
          ],
          "name": "stdout"
        }
      ]
    },
    {
      "cell_type": "code",
      "metadata": {
        "id": "-1eRFV-28y55"
      },
      "source": [
        "import numpy as np\n",
        "import pandas as pd\n",
        "import lightgbm\n",
        "from sklearn.model_selection import train_test_split\n",
        "from sklearn.preprocessing import LabelBinarizer\n",
        "from sklearn.metrics import roc_auc_score"
      ],
      "execution_count": 14,
      "outputs": []
    },
    {
      "cell_type": "code",
      "metadata": {
        "id": "6QUVec7g8I8j"
      },
      "source": [
        "data = pd.read_csv(path + '/train-2.csv')"
      ],
      "execution_count": 49,
      "outputs": []
    },
    {
      "cell_type": "code",
      "metadata": {
        "id": "sLI6d9wz80O2"
      },
      "source": [
        "y = data['TARGET']\n",
        "X = data.drop(columns = 'TARGET')\n",
        "X = X.drop(columns = 'SK_ID_CURR')"
      ],
      "execution_count": 51,
      "outputs": []
    },
    {
      "cell_type": "code",
      "metadata": {
        "id": "iCwKpvExf2nY"
      },
      "source": [
        "submission = pd.read_csv(path + '/test-2.csv')\n",
        "ids = submission['SK_ID_CURR'].values\n",
        "submission.drop('SK_ID_CURR', inplace=True, axis=1)\n",
        "\n",
        "\n",
        "X_test = submission.drop(columns = 'TARGET')\n",
        "y_test = submission['TARGET']\n"
      ],
      "execution_count": 52,
      "outputs": []
    },
    {
      "cell_type": "code",
      "metadata": {
        "id": "zBGy21kiJLil"
      },
      "source": [
        "categorical = list(X.dtypes[X.dtypes == \"object\"].index)\n",
        "for c, col in enumerate(X.columns):\n",
        "   if ('FLAG' in col):\n",
        "       categorical.append(col)\n",
        "numerical = list(set(X.columns) - set(categorical))\n"
      ],
      "execution_count": 53,
      "outputs": []
    },
    {
      "cell_type": "code",
      "metadata": {
        "id": "JE3fVJviWcIL"
      },
      "source": [
        "X_mean = X[numerical].mean()\n",
        "X[numerical] = X[numerical].fillna(X_mean)\n",
        "X[categorical] = X[categorical].fillna('-1')\n",
        "#X, X_valid, y, y_valid = train_test_split(X, y, test_size=0.2, random_state=42)"
      ],
      "execution_count": 54,
      "outputs": []
    },
    {
      "cell_type": "code",
      "metadata": {
        "id": "OB3QVBBu86AL"
      },
      "source": [
        "train_data = lightgbm.Dataset(X, label=y, categorical_feature=categorical)\n",
        "test_data = lightgbm.Dataset(X_test, label=y_test)"
      ],
      "execution_count": 65,
      "outputs": []
    },
    {
      "cell_type": "code",
      "metadata": {
        "colab": {
          "base_uri": "https://localhost:8080/"
        },
        "id": "10v2kJhbZqkv",
        "outputId": "01b15ea8-e0c2-4d25-c134-2180844f3230"
      },
      "source": [
        "from lightgbm import LGBMClassifier\n",
        "clf = LGBMClassifier()\n",
        "clf.fit(X[numerical], y)"
      ],
      "execution_count": 68,
      "outputs": [
        {
          "output_type": "execute_result",
          "data": {
            "text/plain": [
              "LGBMClassifier(boosting_type='gbdt', class_weight=None, colsample_bytree=1.0,\n",
              "               importance_type='split', learning_rate=0.1, max_depth=-1,\n",
              "               min_child_samples=20, min_child_weight=0.001, min_split_gain=0.0,\n",
              "               n_estimators=100, n_jobs=-1, num_leaves=31, objective=None,\n",
              "               random_state=None, reg_alpha=0.0, reg_lambda=0.0, silent=True,\n",
              "               subsample=1.0, subsample_for_bin=200000, subsample_freq=0)"
            ]
          },
          "metadata": {
            "tags": []
          },
          "execution_count": 68
        }
      ]
    },
    {
      "cell_type": "code",
      "metadata": {
        "id": "f2T9TUdXb0eK"
      },
      "source": [
        "predictions = clf.predict_proba(X_test[numerical])[:, 1]"
      ],
      "execution_count": 57,
      "outputs": []
    },
    {
      "cell_type": "code",
      "metadata": {
        "colab": {
          "base_uri": "https://localhost:8080/"
        },
        "id": "s1wtbz4wB2Nq",
        "outputId": "0210f687-02d7-404e-9d0c-f0e743e0a6af"
      },
      "source": [
        "\n",
        "roc_auc_score(y_test, clf.predict_proba(X_test[numerical])[:, 1])"
      ],
      "execution_count": 58,
      "outputs": [
        {
          "output_type": "execute_result",
          "data": {
            "text/plain": [
              "0.7001429724246099"
            ]
          },
          "metadata": {
            "tags": []
          },
          "execution_count": 58
        }
      ]
    }
  ]
}